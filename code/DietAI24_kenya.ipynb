{
 "cells": [
  {
   "cell_type": "markdown",
   "metadata": {},
   "source": [
    "## OpenAI"
   ]
  },
  {
   "cell_type": "code",
   "execution_count": 1,
   "metadata": {},
   "outputs": [],
   "source": [
    "import os\n",
    "import base64\n",
    "import json\n",
    "import csv\n",
    "from tqdm import tqdm\n",
    "from dotenv import load_dotenv\n",
    "from openai import OpenAI\n",
    "from kenya.DietAI24_OpenAI import DietAI24"
   ]
  },
  {
   "cell_type": "code",
   "execution_count": null,
   "metadata": {},
   "outputs": [],
   "source": [
    "model_name = \"gpt-4.1-mini\"\n",
    "path_images = \"../data/kenya/kenya_parsed_food_images\"\n",
    "path_results = f\"../output/kenya_dietai24_{model_name}.csv\"\n",
    "path_food_list = \"../data/kenya/kenya_food_list.txt\""
   ]
  },
  {
   "cell_type": "code",
   "execution_count": 3,
   "metadata": {},
   "outputs": [],
   "source": [
    "os.makedirs(os.path.dirname(path_results), exist_ok=True)\n",
    "ls_images = os.listdir(path_images)\n",
    "ls_images = [os.path.join(path_images, x) for x in ls_images if x.endswith(\".png\")]\n",
    "fields = [\"image\", \"food_name\", \"food_confidence\", \"food_reasoning\", \"weight_grams\", \"weight_confidence\", \"weight_reasoning\"]"
   ]
  },
  {
   "cell_type": "code",
   "execution_count": null,
   "metadata": {},
   "outputs": [
    {
     "name": "stderr",
     "output_type": "stream",
     "text": [
      "Processing images:   0%|          | 0/464 [00:00<?, ?it/s]"
     ]
    },
    {
     "name": "stderr",
     "output_type": "stream",
     "text": [
      "Processing images:  21%|██▏       | 99/464 [12:02<44:22,  7.29s/it]  "
     ]
    },
    {
     "name": "stdout",
     "output_type": "stream",
     "text": [
      "{\n",
      "  \"food_name\": \"Fusilli\",\n",
      "  \"reasoning\": \"The food on the plate consists of spiral-shaped pasta, which matches the appearance of fusilli. Fusilli is listed among the common Kenyan foods provided.\",\n",
      "  \"confidence\": 0.95\n",
      "}\n",
      "Results saved to ../output/kenya_dietai24_gpt-4.1.csv\n"
     ]
    },
    {
     "name": "stderr",
     "output_type": "stream",
     "text": [
      "\n"
     ]
    }
   ],
   "source": [
    "with open(path_results, \"w\", newline='', encoding=\"utf-8\") as f:\n",
    "    writer = csv.DictWriter(f, fieldnames=fields)\n",
    "    writer.writeheader()\n",
    "\n",
    "for image_path in tqdm(ls_images, desc=\"Processing images\"):\n",
    "    row = {\"image\": os.path.basename(image_path)}\n",
    "\n",
    "    recognizer = DietAI24(model_name=model_name, food_list_path=path_food_list)\n",
    "\n",
    "    try:\n",
    "        food_response = recognizer.recognize_food(image_path)\n",
    "        food_data = json.loads(food_response)\n",
    "        row[\"food_name\"] = food_data.get(\"food_name\")\n",
    "        row[\"food_confidence\"] = food_data.get(\"confidence\")\n",
    "        row[\"food_reasoning\"] = food_data.get(\"reasoning\")\n",
    "    except Exception as e:\n",
    "        row[\"food_name\"] = None\n",
    "        row[\"food_confidence\"] = None\n",
    "        row[\"food_reasoning\"] = f\"Errors: {str(e)}\"\n",
    "\n",
    "    if row[\"food_name\"] and str(row[\"food_name\"]).lower() != \"null\":\n",
    "        try:\n",
    "            weight_response = recognizer.estimate_weight(\n",
    "                assumed_food=row[\"food_name\"], image_path=image_path\n",
    "            )\n",
    "            weight_data = json.loads(weight_response)\n",
    "            row[\"weight_grams\"] = weight_data.get(\"weight_grams\")\n",
    "            row[\"weight_confidence\"] = weight_data.get(\"confidence\")\n",
    "            row[\"weight_reasoning\"] = weight_data.get(\"reasoning\")\n",
    "        except Exception as e:\n",
    "            row[\"weight_grams\"] = None\n",
    "            row[\"weight_confidence\"] = None\n",
    "            row[\"weight_reasoning\"] = f\"Errors: {str(e)}\"\n",
    "    else:\n",
    "        row[\"weight_grams\"] = None\n",
    "        row[\"weight_confidence\"] = None\n",
    "        row[\"weight_reasoning\"] = \"Food not recognized or null.\"\n",
    "\n",
    "    recognizer.reset_conversation()  # Safe, optional\n",
    "\n",
    "    # Write this row to CSV immediately (append mode)\n",
    "    with open(path_results, \"a\", newline='', encoding=\"utf-8\") as f:\n",
    "        writer = csv.DictWriter(f, fieldnames=fields)\n",
    "        writer.writerow(row)\n",
    "\n",
    "print(f\"Results saved to {path_results}\")"
   ]
  }
 ],
 "metadata": {
  "kernelspec": {
   "display_name": "agent",
   "language": "python",
   "name": "python3"
  },
  "language_info": {
   "codemirror_mode": {
    "name": "ipython",
    "version": 3
   },
   "file_extension": ".py",
   "mimetype": "text/x-python",
   "name": "python",
   "nbconvert_exporter": "python",
   "pygments_lexer": "ipython3",
   "version": "3.11.11"
  }
 },
 "nbformat": 4,
 "nbformat_minor": 2
}

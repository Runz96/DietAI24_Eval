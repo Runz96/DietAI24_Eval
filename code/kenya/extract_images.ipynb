{
 "cells": [
  {
   "cell_type": "code",
   "execution_count": 1,
   "id": "1dc0cfe1",
   "metadata": {},
   "outputs": [],
   "source": [
    "import fitz  # PyMuPDF\n",
    "from PIL import Image\n",
    "from io import BytesIO\n",
    "import os\n",
    "import re"
   ]
  },
  {
   "cell_type": "code",
   "execution_count": 4,
   "id": "399d9166",
   "metadata": {},
   "outputs": [],
   "source": [
    "# Paths\n",
    "pdf_path = \"/Users/runzeyan/Library/CloudStorage/OneDrive-Emory/Diet AI/DietAI24/data/photographic-food-atlas-2-2-11-2018-1.pdf\"\n",
    "output_dir = \"../data/kenya_parsed_food_images\"\n",
    "os.makedirs(output_dir, exist_ok=True)"
   ]
  },
  {
   "cell_type": "code",
   "execution_count": 5,
   "id": "9804758b",
   "metadata": {},
   "outputs": [],
   "source": [
    "doc = fitz.open(pdf_path)"
   ]
  },
  {
   "cell_type": "code",
   "execution_count": null,
   "id": "8f5a9f50",
   "metadata": {},
   "outputs": [
    {
     "ename": "ValueError",
     "evalue": "unknown file extension: ",
     "output_type": "error",
     "traceback": [
      "\u001b[31m---------------------------------------------------------------------------\u001b[39m",
      "\u001b[31mKeyError\u001b[39m                                  Traceback (most recent call last)",
      "\u001b[36mFile \u001b[39m\u001b[32m~/anaconda3/envs/agent/lib/python3.11/site-packages/PIL/Image.py:2571\u001b[39m, in \u001b[36mImage.save\u001b[39m\u001b[34m(self, fp, format, **params)\u001b[39m\n\u001b[32m   2570\u001b[39m \u001b[38;5;28;01mtry\u001b[39;00m:\n\u001b[32m-> \u001b[39m\u001b[32m2571\u001b[39m     \u001b[38;5;28mformat\u001b[39m = \u001b[43mEXTENSION\u001b[49m\u001b[43m[\u001b[49m\u001b[43mext\u001b[49m\u001b[43m]\u001b[49m\n\u001b[32m   2572\u001b[39m \u001b[38;5;28;01mexcept\u001b[39;00m \u001b[38;5;167;01mKeyError\u001b[39;00m \u001b[38;5;28;01mas\u001b[39;00m e:\n",
      "\u001b[31mKeyError\u001b[39m: ''",
      "\nThe above exception was the direct cause of the following exception:\n",
      "\u001b[31mValueError\u001b[39m                                Traceback (most recent call last)",
      "\u001b[36mCell\u001b[39m\u001b[36m \u001b[39m\u001b[32mIn[6]\u001b[39m\u001b[32m, line 15\u001b[39m\n\u001b[32m     13\u001b[39m         image_filename = \u001b[33mf\u001b[39m\u001b[33m\"\u001b[39m\u001b[33mpage_\u001b[39m\u001b[38;5;132;01m{\u001b[39;00mpage_number+\u001b[32m1\u001b[39m\u001b[38;5;132;01m}\u001b[39;00m\u001b[33m_img_\u001b[39m\u001b[38;5;132;01m{\u001b[39;00mi+\u001b[32m1\u001b[39m\u001b[38;5;132;01m}\u001b[39;00m\u001b[33m\"\u001b[39m\n\u001b[32m     14\u001b[39m         image_path = os.path.join(output_dir, image_filename)\n\u001b[32m---> \u001b[39m\u001b[32m15\u001b[39m         \u001b[43mimage\u001b[49m\u001b[43m.\u001b[49m\u001b[43msave\u001b[49m\u001b[43m(\u001b[49m\u001b[43mimage_path\u001b[49m\u001b[43m)\u001b[49m\n\u001b[32m     16\u001b[39m         \u001b[38;5;28mprint\u001b[39m(\u001b[33mf\u001b[39m\u001b[33m\"\u001b[39m\u001b[33mSaved: \u001b[39m\u001b[38;5;132;01m{\u001b[39;00mimage_filename\u001b[38;5;132;01m}\u001b[39;00m\u001b[33m\"\u001b[39m)\n\u001b[32m     18\u001b[39m \u001b[38;5;28mprint\u001b[39m(\u001b[33m\"\u001b[39m\u001b[33m✅ All images extracted and saved with structured filenames.\u001b[39m\u001b[33m\"\u001b[39m)\n",
      "\u001b[36mFile \u001b[39m\u001b[32m~/anaconda3/envs/agent/lib/python3.11/site-packages/PIL/Image.py:2574\u001b[39m, in \u001b[36mImage.save\u001b[39m\u001b[34m(self, fp, format, **params)\u001b[39m\n\u001b[32m   2572\u001b[39m     \u001b[38;5;28;01mexcept\u001b[39;00m \u001b[38;5;167;01mKeyError\u001b[39;00m \u001b[38;5;28;01mas\u001b[39;00m e:\n\u001b[32m   2573\u001b[39m         msg = \u001b[33mf\u001b[39m\u001b[33m\"\u001b[39m\u001b[33munknown file extension: \u001b[39m\u001b[38;5;132;01m{\u001b[39;00mext\u001b[38;5;132;01m}\u001b[39;00m\u001b[33m\"\u001b[39m\n\u001b[32m-> \u001b[39m\u001b[32m2574\u001b[39m         \u001b[38;5;28;01mraise\u001b[39;00m \u001b[38;5;167;01mValueError\u001b[39;00m(msg) \u001b[38;5;28;01mfrom\u001b[39;00m\u001b[38;5;250m \u001b[39m\u001b[34;01me\u001b[39;00m\n\u001b[32m   2576\u001b[39m \u001b[38;5;28;01mif\u001b[39;00m \u001b[38;5;28mformat\u001b[39m.upper() \u001b[38;5;129;01mnot\u001b[39;00m \u001b[38;5;129;01min\u001b[39;00m SAVE:\n\u001b[32m   2577\u001b[39m     init()\n",
      "\u001b[31mValueError\u001b[39m: unknown file extension: "
     ]
    }
   ],
   "source": [
    "# Go through each page\n",
    "for page_number in range(len(doc)):\n",
    "    page = doc[page_number]\n",
    "\n",
    "    # Extract images\n",
    "    images = page.get_images(full=True)\n",
    "    for i, img in enumerate(images):\n",
    "        xref = img[0]\n",
    "        base_image = doc.extract_image(xref)\n",
    "        image_bytes = base_image[\"image\"]\n",
    "        # image_ext = base_image[\"ext\"]\n",
    "        image_ext = 'png'\n",
    "        image = Image.open(BytesIO(image_bytes))\n",
    "        image_filename = f\"page_{page_number+1}_img_{i+1}.{image_ext}\"\n",
    "        image_path = os.path.join(output_dir, image_filename)\n",
    "        image.save(image_path)\n",
    "        print(f\"Saved: {image_filename}\")\n",
    "\n",
    "print(\"✅ All images extracted and saved with structured filenames.\")"
   ]
  },
  {
   "cell_type": "code",
   "execution_count": null,
   "id": "e14877d7",
   "metadata": {},
   "outputs": [],
   "source": [
    "# Go through each page\n",
    "for page_number in range(len(doc)):\n",
    "    page = doc[page_number]\n",
    "    text = page.get_text()\n",
    "\n",
    "    # Search for food index title on the page\n",
    "    match = label_pattern.search(text)\n",
    "    if match:\n",
    "        current_food_index = match.group(1).strip()\n",
    "        food_name = match.group(2).strip().replace(\" \", \"_\")\n",
    "\n",
    "    # Extract images\n",
    "    images = page.get_images(full=True)\n",
    "    for i, img in enumerate(images):\n",
    "        xref = img[0]\n",
    "        base_image = doc.extract_image(xref)\n",
    "        image_bytes = base_image[\"image\"]\n",
    "        image_ext = base_image[\"ext\"]\n",
    "        image = Image.open(BytesIO(image_bytes))\n",
    "\n",
    "        # Use labels A, B, C based on index order (e.g., A for first image)\n",
    "        label = chr(ord('A') + i)\n",
    "        if current_food_index:\n",
    "            image_filename = f\"{current_food_index}_{label}.{image_ext}\"\n",
    "        else:\n",
    "            image_filename = f\"page_{page_number+1}_img_{i+1}.{image_ext}\"\n",
    "\n",
    "        image_path = os.path.join(output_dir, image_filename)\n",
    "        image.save(image_path)\n",
    "        print(f\"Saved: {image_filename}\")\n",
    "\n",
    "print(\"✅ All images extracted and saved with structured filenames.\")"
   ]
  },
  {
   "cell_type": "code",
   "execution_count": null,
   "id": "6aa5fde5",
   "metadata": {},
   "outputs": [],
   "source": []
  }
 ],
 "metadata": {
  "kernelspec": {
   "display_name": "agent",
   "language": "python",
   "name": "python3"
  },
  "language_info": {
   "codemirror_mode": {
    "name": "ipython",
    "version": 3
   },
   "file_extension": ".py",
   "mimetype": "text/x-python",
   "name": "python",
   "nbconvert_exporter": "python",
   "pygments_lexer": "ipython3",
   "version": "3.11.11"
  }
 },
 "nbformat": 4,
 "nbformat_minor": 5
}
